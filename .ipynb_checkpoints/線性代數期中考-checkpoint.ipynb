{
 "cells": [
  {
   "cell_type": "code",
   "execution_count": 1,
   "metadata": {},
   "outputs": [],
   "source": [
    "import numpy as np\n",
    "import pandas as pd"
   ]
  },
  {
   "cell_type": "markdown",
   "metadata": {},
   "source": [
    "## 第一大題"
   ]
  },
  {
   "cell_type": "code",
   "execution_count": 2,
   "metadata": {},
   "outputs": [
    {
     "data": {
      "text/plain": [
       "matrix([[ 1,  2,  3,  1],\n",
       "        [ 1, -1, -3, -2],\n",
       "        [ 0,  0,  0,  0],\n",
       "        [ 0,  1, -2, -3]])"
      ]
     },
     "execution_count": 2,
     "metadata": {},
     "output_type": "execute_result"
    }
   ],
   "source": [
    "A = np.matrix([[1,2,3,1],[1,-1,-3,-2],[0,0,0,0],[0,1,-2,-3]])\n",
    "A"
   ]
  },
  {
   "cell_type": "markdown",
   "metadata": {},
   "source": [
    "### (a) Find an orthonormal basis of the column space of A, W"
   ]
  },
  {
   "cell_type": "code",
   "execution_count": 3,
   "metadata": {},
   "outputs": [],
   "source": [
    "# (a) 小題\n",
    "A_1 = np.matrix([1, 1, 0, 0]).T\n",
    "A_2 = np.matrix([2, -1, 0, 1]).T\n",
    "A_3 = np.matrix([3, -3, 0, -2]).T\n",
    "A_4 = np.matrix([1, -2, 0, -3]).T"
   ]
  },
  {
   "cell_type": "code",
   "execution_count": 4,
   "metadata": {},
   "outputs": [],
   "source": [
    "# Gram-Schmidt (簡潔寫法)\n",
    "v_1 = A_1\n",
    "v_2 = A_2 - (((v_1.T @ A_2)/(v_1.T @ v_1)) @ v_1.T).T\n",
    "v_3 = A_3 - (((v_1.T @ A_3)/(v_1.T @ v_1)) @ v_1.T).T - (((v_2.T @ A_3)/(v_2.T @ v_2)) @ v_2.T).T\n",
    "v_4 = A_4 - (((v_1.T @ A_4)/(v_1.T @ v_1)) @ v_1.T).T - (((v_2.T @ A_4)/(v_2.T @ v_2)) @ v_2.T).T - (((v_3.T @ A_4)/(v_3.T @ v_3)) @ v_3.T).T"
   ]
  },
  {
   "cell_type": "code",
   "execution_count": 5,
   "metadata": {},
   "outputs": [
    {
     "data": {
      "text/plain": [
       "matrix([[-2.22044605e-16],\n",
       "        [ 2.22044605e-16],\n",
       "        [ 0.00000000e+00],\n",
       "        [ 8.88178420e-16]])"
      ]
     },
     "execution_count": 5,
     "metadata": {},
     "output_type": "execute_result"
    }
   ],
   "source": [
    "# rank(A) = 3 ，檢查看看第四個行向量是否為零向量\n",
    "v_4"
   ]
  },
  {
   "cell_type": "code",
   "execution_count": 6,
   "metadata": {},
   "outputs": [
    {
     "data": {
      "text/plain": [
       "matrix([[ 0.70710678,  0.63960215,  0.30151134,  0.        ],\n",
       "        [ 0.70710678, -0.63960215, -0.30151134,  0.        ],\n",
       "        [ 0.        ,  0.        ,  0.        ,  0.        ],\n",
       "        [ 0.        ,  0.42640143, -0.90453403,  0.        ]])"
      ]
     },
     "execution_count": 6,
     "metadata": {},
     "output_type": "execute_result"
    }
   ],
   "source": [
    "w1 = v_1 @ (1/np.sqrt(v_1.T @ v_1))\n",
    "w2 = v_2 @ (1/np.sqrt(v_2.T @ v_2))\n",
    "w3 = v_3 @ (1/np.sqrt(v_3.T @ v_3))\n",
    "w4 = np.matrix([0, 0, 0, 0]).T\n",
    "W = np.hstack((w1, w2, w3, w4))\n",
    "W"
   ]
  },
  {
   "cell_type": "code",
   "execution_count": 8,
   "metadata": {},
   "outputs": [],
   "source": [
    "# Gram-Schmidt (numpy寫法)\n",
    "v1 = A_1\n",
    "v2 = A_2 - np.multiply(np.dot(A_2.T,v1)/np.dot(v1.T,v1), v1)\n",
    "v3 = A_3 - np.multiply(np.dot(A_3.T,v1)/np.dot(v1.T,v1), v1) - np.multiply(np.dot(A_3.T,v2)/np.dot(v2.T,v2), v2)\n",
    "v4 = A_4 - np.multiply(np.dot(A_4.T,v1)/np.dot(v1.T,v1), v1) - np.multiply(np.dot(A_4.T,v2)/np.dot(v2.T,v2), v2) - np.multiply(np.dot(A_4.T,v3)/np.dot(v3.T,v3), v3)"
   ]
  },
  {
   "cell_type": "code",
   "execution_count": 9,
   "metadata": {},
   "outputs": [
    {
     "data": {
      "text/plain": [
       "matrix([[ 0.70710678,  0.63960215,  0.30151134,  0.        ],\n",
       "        [ 0.70710678, -0.63960215, -0.30151134,  0.        ],\n",
       "        [ 0.        ,  0.        ,  0.        ,  0.        ],\n",
       "        [ 0.        ,  0.42640143, -0.90453403,  0.        ]])"
      ]
     },
     "execution_count": 9,
     "metadata": {},
     "output_type": "execute_result"
    }
   ],
   "source": [
    "w1 = np.multiply(1/np.sqrt(np.dot(v1.T,v1)),v1)\n",
    "w2 = np.multiply(1/np.sqrt(np.dot(v2.T,v2)),v2)\n",
    "w3 = np.multiply(1/np.sqrt(np.dot(v3.T,v3)),v3)\n",
    "w4 = np.matrix([0, 0, 0, 0]).T\n",
    "W = np.hstack((w1, w2, w3, w4))\n",
    "W"
   ]
  },
  {
   "cell_type": "markdown",
   "metadata": {},
   "source": [
    "### (b) Find a basis of the orthogonal complement of W"
   ]
  },
  {
   "cell_type": "code",
   "execution_count": 10,
   "metadata": {},
   "outputs": [
    {
     "data": {
      "text/plain": [
       "matrix([[0],\n",
       "        [0],\n",
       "        [1],\n",
       "        [0]])"
      ]
     },
     "execution_count": 10,
     "metadata": {},
     "output_type": "execute_result"
    }
   ],
   "source": [
    "# 從 (a) 小題觀察\n",
    "W_per = np.matrix([0, 0, 1, 0]).T\n",
    "W_per"
   ]
  },
  {
   "cell_type": "markdown",
   "metadata": {},
   "source": [
    "### (c) Find the projection of v = (1,1,1,1) on W"
   ]
  },
  {
   "cell_type": "code",
   "execution_count": 11,
   "metadata": {},
   "outputs": [
    {
     "data": {
      "text/plain": [
       "matrix([[1.],\n",
       "        [1.],\n",
       "        [0.],\n",
       "        [1.]])"
      ]
     },
     "execution_count": 11,
     "metadata": {},
     "output_type": "execute_result"
    }
   ],
   "source": [
    "# 計算投影在W空間上的向量\n",
    "v = np.matrix([1,1,1,1]).T\n",
    "v_proj = np.multiply(np.dot(v.T,w1), w1) + np.multiply(np.dot(v.T,w2), w2) + np.multiply(np.dot(v.T,w3), w3)\n",
    "v_proj"
   ]
  },
  {
   "cell_type": "markdown",
   "metadata": {},
   "source": [
    "### (d) Find the distance from the vector v = (1,1,1,1) to W"
   ]
  },
  {
   "cell_type": "code",
   "execution_count": 12,
   "metadata": {},
   "outputs": [
    {
     "data": {
      "text/plain": [
       "matrix([[1.]])"
      ]
     },
     "execution_count": 12,
     "metadata": {},
     "output_type": "execute_result"
    }
   ],
   "source": [
    "# v減去投影向量後剩餘的向量垂直於 W 空間，其向量長度為與 W 空間的距離\n",
    "u = v - v_proj\n",
    "u_dis = np.sqrt(np.dot(u.T, u))\n",
    "u_dis"
   ]
  },
  {
   "cell_type": "markdown",
   "metadata": {},
   "source": [
    "### (e) Find the projection of the first column of A on W"
   ]
  },
  {
   "cell_type": "code",
   "execution_count": 13,
   "metadata": {},
   "outputs": [
    {
     "data": {
      "text/plain": [
       "matrix([[1.],\n",
       "        [1.],\n",
       "        [0.],\n",
       "        [0.]])"
      ]
     },
     "execution_count": 13,
     "metadata": {},
     "output_type": "execute_result"
    }
   ],
   "source": [
    "A_col_1 = np.matrix([1, 1, 0, 0]).T\n",
    "A_col_1_proj = np.multiply(np.dot(A_col_1.T,w1), w1)\n",
    "A_col_1_proj"
   ]
  },
  {
   "cell_type": "markdown",
   "metadata": {},
   "source": [
    "# 第五大題"
   ]
  },
  {
   "cell_type": "code",
   "execution_count": 14,
   "metadata": {},
   "outputs": [
    {
     "name": "stdout",
     "output_type": "stream",
     "text": [
      "[[ 1  0  0]\n",
      " [ 0  1  0]\n",
      " [ 0 -1  1]]\n",
      "[[1 0 0]\n",
      " [1 1 0]\n",
      " [1 1 1]]\n"
     ]
    }
   ],
   "source": [
    "# 寫出 S 和 T 的基底\n",
    "S = np.matrix([[1,0,0],[0,1,-1],[0,0,1]]).T\n",
    "T = np.matrix([[1,1,1],[0,1,1],[0,0,1]]).T\n",
    "print(S)\n",
    "print(T)"
   ]
  },
  {
   "cell_type": "code",
   "execution_count": 15,
   "metadata": {},
   "outputs": [
    {
     "data": {
      "text/plain": [
       "matrix([[1],\n",
       "        [2],\n",
       "        [1]])"
      ]
     },
     "execution_count": 15,
     "metadata": {},
     "output_type": "execute_result"
    }
   ],
   "source": [
    "v_S = np.matrix([1,2,3]).T\n",
    "v = np.dot(S, v_S)\n",
    "v"
   ]
  },
  {
   "cell_type": "code",
   "execution_count": 16,
   "metadata": {},
   "outputs": [
    {
     "data": {
      "text/plain": [
       "matrix([[ 1.],\n",
       "        [ 1.],\n",
       "        [-1.]])"
      ]
     },
     "execution_count": 16,
     "metadata": {},
     "output_type": "execute_result"
    }
   ],
   "source": [
    "v_T = np.dot(np.linalg.inv(T), v)\n",
    "v_T"
   ]
  },
  {
   "cell_type": "markdown",
   "metadata": {},
   "source": [
    "# 第六大題"
   ]
  },
  {
   "cell_type": "code",
   "execution_count": 17,
   "metadata": {},
   "outputs": [
    {
     "data": {
      "text/plain": [
       "matrix([[ 2, -1],\n",
       "        [-1,  3],\n",
       "        [ 0,  1]])"
      ]
     },
     "execution_count": 17,
     "metadata": {},
     "output_type": "execute_result"
    }
   ],
   "source": [
    "A = np.matrix([[2,-1,0],[-1,3,1]]).T\n",
    "A"
   ]
  },
  {
   "cell_type": "code",
   "execution_count": 18,
   "metadata": {},
   "outputs": [
    {
     "data": {
      "text/plain": [
       "matrix([[ 0.89442719,  0.40824829],\n",
       "        [-0.4472136 ,  0.81649658],\n",
       "        [ 0.        ,  0.40824829]])"
      ]
     },
     "execution_count": 18,
     "metadata": {},
     "output_type": "execute_result"
    }
   ],
   "source": [
    "A1 = np.matrix([2,-1,0]).T\n",
    "A2 = np.matrix([-1,3,1]).T\n",
    "\n",
    "# Gram-Schmidt\n",
    "v1 = A1\n",
    "v2 = A2 - np.multiply(np.dot(A2.T,A1)/np.dot(v1.T,v1), v1)\n",
    "\n",
    "# 單位標準化\n",
    "w1 = np.multiply(1/np.sqrt(np.dot(v1.T,v1)),v1)\n",
    "w2 = np.multiply(1/np.sqrt(np.dot(v2.T,v2)),v2)\n",
    "\n",
    "Q = np.hstack((w1, w2))\n",
    "Q"
   ]
  },
  {
   "cell_type": "code",
   "execution_count": 19,
   "metadata": {},
   "outputs": [
    {
     "data": {
      "text/plain": [
       "matrix([[ 2.23606798, -2.23606798],\n",
       "        [ 0.        ,  2.44948974]])"
      ]
     },
     "execution_count": 19,
     "metadata": {},
     "output_type": "execute_result"
    }
   ],
   "source": [
    "r11 = np.float(np.dot(A1.T, w1))\n",
    "r12 = np.dot(A2.T, w1)\n",
    "r22 = np.dot(A2.T, w2)\n",
    "R = np.matrix([[r11,0],[r12,r22]]).T\n",
    "R"
   ]
  },
  {
   "cell_type": "code",
   "execution_count": 20,
   "metadata": {},
   "outputs": [
    {
     "data": {
      "text/plain": [
       "matrix([[ 2., -1.],\n",
       "        [-1.,  3.],\n",
       "        [ 0.,  1.]])"
      ]
     },
     "execution_count": 20,
     "metadata": {},
     "output_type": "execute_result"
    }
   ],
   "source": [
    "np.dot(Q, R)"
   ]
  }
 ],
 "metadata": {
  "kernelspec": {
   "display_name": "Python 3",
   "language": "python",
   "name": "python3"
  },
  "language_info": {
   "codemirror_mode": {
    "name": "ipython",
    "version": 3
   },
   "file_extension": ".py",
   "mimetype": "text/x-python",
   "name": "python",
   "nbconvert_exporter": "python",
   "pygments_lexer": "ipython3",
   "version": "3.6.4"
  }
 },
 "nbformat": 4,
 "nbformat_minor": 2
}
